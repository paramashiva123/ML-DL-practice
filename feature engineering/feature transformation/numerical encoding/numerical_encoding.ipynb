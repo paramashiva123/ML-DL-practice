{
 "cells": [
  {
   "cell_type": "code",
   "execution_count": 1,
   "id": "ff2fcbe6",
   "metadata": {},
   "outputs": [],
   "source": [
    "import pandas as pd \n",
    "import numpy as np"
   ]
  },
  {
   "cell_type": "code",
   "execution_count": 2,
   "id": "c469ceb5",
   "metadata": {},
   "outputs": [],
   "source": [
    "import matplotlib.pyplot as plt\n",
    "from sklearn.model_selection import train_test_split\n",
    "from sklearn.tree import DecisionTreeClassifier\n",
    "from sklearn.preprocessing import KBinsDiscretizer\n",
    "from sklearn.model_selection import cross_val_score\n",
    "from sklearn.metrics import accuracy_score\n",
    "from sklearn.compose import ColumnTransformer"
   ]
  },
  {
   "cell_type": "code",
   "execution_count": 6,
   "id": "38f1d1a8",
   "metadata": {},
   "outputs": [],
   "source": [
    "df=pd.read_csv('train.csv',usecols=['Age','Fare','Survived'])\n",
    "df.dropna(inplace=True)\n",
    "x=df.iloc[:,1:]\n",
    "y=df.iloc[:,0]"
   ]
  },
  {
   "cell_type": "code",
   "execution_count": 7,
   "id": "593d97fd",
   "metadata": {},
   "outputs": [],
   "source": [
    "x_train,x_test,y_train,y_test=train_test_split(x,y,test_size=0.3,random_state=0)"
   ]
  },
  {
   "cell_type": "code",
   "execution_count": null,
   "id": "3be25ad6",
   "metadata": {},
   "outputs": [
    {
     "data": {
      "text/plain": [
       "0.5813953488372093"
      ]
     },
     "execution_count": 10,
     "metadata": {},
     "output_type": "execute_result"
    }
   ],
   "source": [
    "# training the model without using discretization\n",
    "clf=DecisionTreeClassifier()\n",
    "clf.fit(x_train,y_train)\n",
    "y_pred=clf.predict(x_test)\n",
    "accuracy_score(y_test,y_pred)"
   ]
  },
  {
   "cell_type": "code",
   "execution_count": 11,
   "id": "fd63f8c9",
   "metadata": {},
   "outputs": [
    {
     "data": {
      "text/plain": [
       "0.6303208137715179"
      ]
     },
     "execution_count": 11,
     "metadata": {},
     "output_type": "execute_result"
    }
   ],
   "source": [
    "np.mean(cross_val_score(DecisionTreeClassifier(),x,y,cv=10,scoring='accuracy'))"
   ]
  },
  {
   "cell_type": "code",
   "execution_count": 13,
   "id": "53c1e9d8",
   "metadata": {},
   "outputs": [
    {
     "data": {
      "text/plain": [
       "\" *Encoding Numerical Features\\nconverting numerical data into categorical data.\\nsometimes it will be difficult to perform on numbers,so we convert them into categories\\nexample: google playstore (download of apps)\\n         netflix - 10100350\\n         tuptup - 23\\n         katkat - 34567\\nhere the range is too high and we cannot plot these values with such range.\\nwe make bins, like without giving the exact count,we give categories like 100+\\n                                                                          1k+\\n                                                                          1cr+\\n                                                                          1mil+\\nTo convert numerical into categorical ,there are two famous techniques.\\n1)Discretization(Binning)\\n2)Binarization\\n\\n  **Discretization**\\nDiscretization is the process of transforming continuous variables into discrete variables \\nby creating a set of continguous intervals that span the range of the varibles values.\\nDiscretization is also called as binning.where bin is an alternative name for interval.\\n-->discretization is used to handle outliers and to improve the value spread\\n  Types of Discretization\\n    1)unsupervised\\n       i)Equal width(uniform width)\\n      ii)Equal Frequency(quantile binning)(ex: in a interval there should ne 10% frequency for 10 bins)\\n     iii)KMeans Binning(it will male clusters with nearer values)\\n    2)supervised\\n      (Decision Tree)\\n    3)custom binning\\n      (in custom binning the bins are created with our own knowledge as (0-18)kids,(18-60)adults. here we dont use sklearn for custom binning,we use pandas by writing our own logic.)\\n  **Binarization**\\n      the numerical values are converted into categorical values in binary form(as the name suggests binary=0,1)\\n      Example: if one or more family members are travelling together then all the people one ,one or more are categorized as '1' and all people who are travelling alone as categorized as '0'.    \""
      ]
     },
     "execution_count": 13,
     "metadata": {},
     "output_type": "execute_result"
    }
   ],
   "source": [
    "''' *Encoding Numerical Features\n",
    "converting numerical data into categorical data.\n",
    "sometimes it will be difficult to perform on numbers,so we convert them into categories\n",
    "example: google playstore (download of apps)\n",
    "         netflix - 10100350\n",
    "         tuptup - 23\n",
    "         katkat - 34567\n",
    "here the range is too high and we cannot plot these values with such range.\n",
    "we make bins, like without giving the exact count,we give categories like 100+\n",
    "                                                                          1k+\n",
    "                                                                          1cr+\n",
    "                                                                          1mil+\n",
    "To convert numerical into categorical ,there are two famous techniques.\n",
    "1)Discretization(Binning)\n",
    "2)Binarization\n",
    "\n",
    "  **Discretization**\n",
    "Discretization is the process of transforming continuous variables into discrete variables \n",
    "by creating a set of continguous intervals that span the range of the varibles values.\n",
    "Discretization is also called as binning.where bin is an alternative name for interval.\n",
    "-->discretization is used to handle outliers and to improve the value spread\n",
    "  Types of Discretization\n",
    "    1)unsupervised\n",
    "       i)Equal width(uniform width)\n",
    "      ii)Equal Frequency(quantile binning)(ex: in a interval there should ne 10% frequency for 10 bins)\n",
    "     iii)KMeans Binning(it will male clusters with nearer values)\n",
    "    2)supervised\n",
    "      (Decision Tree)\n",
    "    3)custom binning\n",
    "      (in custom binning the bins are created with our own knowledge as (0-18)kids,(18-60)adults. here we dont use sklearn for custom binning,we use pandas by writing our own logic.)\n",
    "  **Binarization**\n",
    "      the numerical values are converted into categorical values in binary form(as the name suggests binary=0,1)\n",
    "      Example: if one or more family members are travelling together then all the people one ,one or more are categorized as '1' and all people who are travelling alone as categorized as '0'.    '''"
   ]
  },
  {
   "cell_type": "code",
   "execution_count": 18,
   "id": "a1ab6f47",
   "metadata": {},
   "outputs": [],
   "source": [
    "kbins_age=KBinsDiscretizer(n_bins=10,encode='ordinal',strategy='quantile')\n",
    "kbins_fare=KBinsDiscretizer(n_bins=10,encode='ordinal',strategy='quantile')"
   ]
  },
  {
   "cell_type": "code",
   "execution_count": 19,
   "id": "6776b22e",
   "metadata": {},
   "outputs": [],
   "source": [
    "trf=ColumnTransformer([\n",
    "    ('first',kbins_age,[0]),\n",
    "    ('second',kbins_fare,[1])\n",
    "])"
   ]
  },
  {
   "cell_type": "code",
   "execution_count": 20,
   "id": "cc086b8e",
   "metadata": {},
   "outputs": [],
   "source": [
    "x_train_trf=trf.fit_transform(x_train)\n",
    "x_test_trf=trf.transform(x_test)"
   ]
  },
  {
   "cell_type": "code",
   "execution_count": 22,
   "id": "ecc944c2",
   "metadata": {},
   "outputs": [
    {
     "data": {
      "text/plain": [
       "0.6604651162790698"
      ]
     },
     "execution_count": 22,
     "metadata": {},
     "output_type": "execute_result"
    }
   ],
   "source": [
    "clf=DecisionTreeClassifier()\n",
    "clf.fit(x_train_trf,y_train)\n",
    "y_pred2=clf.predict(x_test_trf)\n",
    "accuracy_score(y_pred2,y_test)"
   ]
  },
  {
   "cell_type": "code",
   "execution_count": 25,
   "id": "3ef58fd1",
   "metadata": {},
   "outputs": [
    {
     "data": {
      "text/plain": [
       "0.6345657276995305"
      ]
     },
     "execution_count": 25,
     "metadata": {},
     "output_type": "execute_result"
    }
   ],
   "source": [
    "x_trf = trf.fit_transform(x)\n",
    "np.mean(cross_val_score(DecisionTreeClassifier(),x,y,cv=10,scoring='accuracy'))"
   ]
  },
  {
   "cell_type": "code",
   "execution_count": null,
   "id": "42584ff9",
   "metadata": {},
   "outputs": [],
   "source": []
  }
 ],
 "metadata": {
  "kernelspec": {
   "display_name": "base",
   "language": "python",
   "name": "python3"
  },
  "language_info": {
   "codemirror_mode": {
    "name": "ipython",
    "version": 3
   },
   "file_extension": ".py",
   "mimetype": "text/x-python",
   "name": "python",
   "nbconvert_exporter": "python",
   "pygments_lexer": "ipython3",
   "version": "3.12.7"
  }
 },
 "nbformat": 4,
 "nbformat_minor": 5
}
